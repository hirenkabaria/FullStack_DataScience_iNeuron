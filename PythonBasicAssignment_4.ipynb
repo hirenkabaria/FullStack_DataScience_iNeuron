{
 "cells": [
  {
   "cell_type": "markdown",
   "metadata": {},
   "source": [
    "1. What exactly is []?\n",
    "2. In a list of values stored in a variable called spam, how would you assign the value 'hello' as the third value? (Assume [2, 4, 6, 8, 10] are in spam.)\n",
    "Let's pretend the spam includes the list ['a', 'b', 'c', 'd'] for the next three queries.\n",
    "3. What is the value of spam[int(int('3' * 2) / 11)]?\n",
    "4. What is the value of spam[-1]?\n",
    "5. What is the value of spam[:2]?\n",
    "Let's pretend bacon has the list [3.14, 'cat,' 11, 'cat,' True] for the next three questions.\n",
    "6. What is the value of bacon.index('cat')?\n",
    "7. How does bacon.append(99) change the look of the list value in bacon?\n",
    "8. How does bacon.remove('cat') change the look of the list in bacon?\n",
    "9. What are the list concatenation and list replication operators?\n",
    "10. What is difference between the list methods append() and insert()?\n",
    "11. What are the two methods for removing items from a list?\n",
    "12. Describe how list values and string values are identical.\n",
    "13. What's the difference between tuples and lists?\n",
    "14. How do you type a tuple value that only contains the integer 42?\n",
    "15. How do you get a list value's tuple form? How do you get a tuple value's list form?\n",
    "16. Variables that \"contain\" list values are not necessarily lists themselves. Instead, what do they contain?\n",
    "17. How do you distinguish between copy.copy() and copy.deepcopy()?"
   ]
  },
  {
   "cell_type": "markdown",
   "metadata": {},
   "source": [
    "Ans:1 [] denotes an empty list."
   ]
  },
  {
   "cell_type": "code",
   "execution_count": 3,
   "metadata": {},
   "outputs": [
    {
     "data": {
      "text/plain": [
       "[2, 4, 'Hello', 8, 10]"
      ]
     },
     "execution_count": 3,
     "metadata": {},
     "output_type": "execute_result"
    }
   ],
   "source": [
    "#Ans:2 \n",
    "spam = [2,4,6,8,10]\n",
    "spam[2] =\"Hello\"\n",
    "spam"
   ]
  },
  {
   "cell_type": "markdown",
   "metadata": {},
   "source": [
    "3. What is the value of spam[int(int('3' * 2) / 11)]?\n",
    "Ans:\n",
    "spam = ['a','b','c','d']\n"
   ]
  },
  {
   "cell_type": "code",
   "execution_count": 11,
   "metadata": {},
   "outputs": [
    {
     "data": {
      "text/plain": [
       "'d'"
      ]
     },
     "execution_count": 11,
     "metadata": {},
     "output_type": "execute_result"
    }
   ],
   "source": [
    "# 3 What is the value of spam[int(int('3' * 2) / 11)]?\n",
    "#Ans 3:\n",
    "spam = ['a','b','c','d']\n",
    "spam[int(int('3'*2)/11)]\n",
    "#What is the value of spam[int(int('3' * 2) / 11)]?\n",
    "# d will be the value of this expression"
   ]
  },
  {
   "cell_type": "markdown",
   "metadata": {},
   "source": [
    "4. What is the value of spam[-1]?\n",
    "Ans: spam[-1] will return 'd' "
   ]
  },
  {
   "cell_type": "code",
   "execution_count": 13,
   "metadata": {},
   "outputs": [
    {
     "data": {
      "text/plain": [
       "'d'"
      ]
     },
     "execution_count": 13,
     "metadata": {},
     "output_type": "execute_result"
    }
   ],
   "source": [
    "spam[-1]"
   ]
  },
  {
   "cell_type": "markdown",
   "metadata": {},
   "source": [
    "5. What is the value of spam[:2]?\n",
    "Ans:\n",
    "['a', 'b'] will be the output\n",
    "[:2] means starts from 0 and exclude the 2nd index of the list"
   ]
  },
  {
   "cell_type": "code",
   "execution_count": 12,
   "metadata": {},
   "outputs": [
    {
     "data": {
      "text/plain": [
       "['a', 'b']"
      ]
     },
     "execution_count": 12,
     "metadata": {},
     "output_type": "execute_result"
    }
   ],
   "source": [
    "spam[:2]"
   ]
  },
  {
   "cell_type": "code",
   "execution_count": 20,
   "metadata": {},
   "outputs": [
    {
     "data": {
      "text/plain": [
       "1"
      ]
     },
     "execution_count": 20,
     "metadata": {},
     "output_type": "execute_result"
    }
   ],
   "source": [
    "#6. What is the value of bacon.index('cat')?\n",
    "#Ans: 1\n",
    "\n",
    "bacon = [3.14, 'cat', 11, 'cat', True]\n",
    "bacon.index('cat')"
   ]
  },
  {
   "cell_type": "markdown",
   "metadata": {},
   "source": [
    "7. How does bacon.append(99) change the look of the list value in bacon?\n",
    "Ans: the append funtion will add 99 at the end of the list."
   ]
  },
  {
   "cell_type": "code",
   "execution_count": 21,
   "metadata": {},
   "outputs": [
    {
     "data": {
      "text/plain": [
       "[3.14, 'cat', 11, 'cat', True, 99]"
      ]
     },
     "execution_count": 21,
     "metadata": {},
     "output_type": "execute_result"
    }
   ],
   "source": [
    "bacon.append(99)\n",
    "bacon"
   ]
  },
  {
   "cell_type": "markdown",
   "metadata": {},
   "source": [
    "8. How does bacon.remove('cat') change the look of the list in bacon?\n",
    "Ans:\n",
    "remove funtion will remove the first occurance of 'cat' from the list"
   ]
  },
  {
   "cell_type": "code",
   "execution_count": 26,
   "metadata": {},
   "outputs": [
    {
     "data": {
      "text/plain": [
       "[3.14, 11, 'cat', True]"
      ]
     },
     "execution_count": 26,
     "metadata": {},
     "output_type": "execute_result"
    }
   ],
   "source": [
    "bacon.remove('cat')\n",
    "bacon"
   ]
  },
  {
   "cell_type": "markdown",
   "metadata": {},
   "source": [
    "9. What are the list concatenation and list replication operators?\n",
    "Ans: For Concatenation + and for replication *"
   ]
  },
  {
   "cell_type": "markdown",
   "metadata": {},
   "source": [
    "10. What is difference between the list methods append() and insert()?\n",
    "Ans:\n",
    "Append() will add the value at the end of the list where as insert () will insert the value anywhere in the list provided that the index value is provided in the argument. In insert, the value will be inserted before the given index.\n"
   ]
  },
  {
   "cell_type": "markdown",
   "metadata": {},
   "source": [
    "11. What are the two methods for removing items from a list?\n",
    "Ans: del statement and the remove () methods will remove items from a list"
   ]
  },
  {
   "cell_type": "code",
   "execution_count": 28,
   "metadata": {},
   "outputs": [
    {
     "data": {
      "text/plain": [
       "[11, 'cat', True]"
      ]
     },
     "execution_count": 28,
     "metadata": {},
     "output_type": "execute_result"
    }
   ],
   "source": [
    "bacon.remove(3.14)\n",
    "\n",
    "bacon"
   ]
  },
  {
   "cell_type": "markdown",
   "metadata": {},
   "source": [
    "12. Describe how list values and string values are identical.\n",
    "Ans:List and strings have indexes and can be sliced. Both can be used in loops and accept len() function.\n",
    "Both can be concatenated or replicated simmilar way and also can be used with the 'in' and 'not in' operators\n"
   ]
  },
  {
   "cell_type": "markdown",
   "metadata": {},
   "source": [
    "13. What's the difference between tuples and lists?\n",
    "List are mutable and tuples are immutable\n",
    "tuples are declated using parantheses ( ) while list are declared using square brackets"
   ]
  },
  {
   "cell_type": "markdown",
   "metadata": {},
   "source": [
    "14. How do you type a tuple value that only contains the integer 42?\n",
    "Ans:\n",
    "(42)"
   ]
  },
  {
   "cell_type": "code",
   "execution_count": 34,
   "metadata": {},
   "outputs": [
    {
     "data": {
      "text/plain": [
       "()"
      ]
     },
     "execution_count": 34,
     "metadata": {},
     "output_type": "execute_result"
    }
   ],
   "source": [
    "(42)"
   ]
  },
  {
   "cell_type": "markdown",
   "metadata": {},
   "source": [
    "15. How do you get a list value's tuple form? How do you get a tuple value's list form?\n",
    "For tuple - tuple()\n",
    "For list - list()"
   ]
  },
  {
   "cell_type": "code",
   "execution_count": 39,
   "metadata": {},
   "outputs": [
    {
     "name": "stdout",
     "output_type": "stream",
     "text": [
      "() []\n"
     ]
    }
   ],
   "source": [
    "print(tuple(), list())"
   ]
  },
  {
   "cell_type": "markdown",
   "metadata": {},
   "source": [
    "16. Variables that \"contain\" list values are not necessarily lists themselves. Instead, what do they contain?\n",
    "Ans: They contain reference to the list values"
   ]
  },
  {
   "cell_type": "markdown",
   "metadata": {},
   "source": [
    "17. How do you distinguish between copy.copy() and copy.deepcopy()?\n",
    "Ans:The copy.copy() function will do a shallow copy of a list, while the copy.deepcopy() function will do a deep copy of a list. That is, only copy.deepcopy() will duplicate any lists inside the list."
   ]
  }
 ],
 "metadata": {
  "kernelspec": {
   "display_name": "Python 3",
   "language": "python",
   "name": "python3"
  },
  "language_info": {
   "codemirror_mode": {
    "name": "ipython",
    "version": 3
   },
   "file_extension": ".py",
   "mimetype": "text/x-python",
   "name": "python",
   "nbconvert_exporter": "python",
   "pygments_lexer": "ipython3",
   "version": "3.8.5"
  }
 },
 "nbformat": 4,
 "nbformat_minor": 4
}
