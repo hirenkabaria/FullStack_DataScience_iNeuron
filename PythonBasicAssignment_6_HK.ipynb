{
 "cells": [
  {
   "cell_type": "markdown",
   "metadata": {},
   "source": [
    "1.\tWhat are escape characters, and how do you use them?\n",
    "Ans:\n",
    "Escape characters allows to include special characters in strings. To do this, add (\\) backslash before the character we want to escape.\n",
    "For e.g. if we want to print “it’s raining” then we should escape the “ ’ “ apostrophe s else it will error, hence to do this we shall use backslash as shown below\n",
    "Print(“ It\\’s raining”)"
   ]
  },
  {
   "cell_type": "markdown",
   "metadata": {},
   "source": [
    "2.\tWhat do the escape characters n and t stand for?\n",
    "\n",
    "N – for new line and t for tab"
   ]
  },
  {
   "cell_type": "markdown",
   "metadata": {},
   "source": [
    "3.\tWhat is the way to include backslash characters in a string?\n",
    "print('\"\\\\\" is the backslash')\n",
    "We should use above code example to print backslash"
   ]
  },
  {
   "cell_type": "markdown",
   "metadata": {},
   "source": [
    "4.\tThe string \"Howl's Moving Castle\" is a correct value. Why isn't the single quote character in the word Howl's not escaped a problem?\n",
    "Because we have used double quotes to begin and end the string, if we would have used a single quote begin and end the string, the compiler will throw error and to prevent this error we can use escape character."
   ]
  },
  {
   "cell_type": "markdown",
   "metadata": {},
   "source": [
    "5.\tHow do you write a string of newlines if you don't want to use the n character?\n",
    "Ans: We can use \\r to achieve this"
   ]
  },
  {
   "cell_type": "markdown",
   "metadata": {},
   "source": [
    "6. What are the values of the given expressions?\n",
    "'Hello, world!'[1]\n",
    "Ans - e\n",
    "'Hello, world!'[0:5]\n",
    "Ans – ‘Hello’\n",
    "'Hello, world!'[:5]\n",
    "Ans: ‘Hello’\n",
    "'Hello, world!'[3:]\n",
    "Ans – ‘lo, world!’"
   ]
  },
  {
   "cell_type": "markdown",
   "metadata": {},
   "source": [
    "7. What are the values of the following expressions?\n",
    "'Hello'.upper()  ---'HELLO’\n",
    "'Hello'.upper().isupper() -- True\n",
    "'Hello'.upper().lower() ---‘hello’"
   ]
  },
  {
   "cell_type": "markdown",
   "metadata": {},
   "source": [
    "8. What are the values of the following expressions?\n",
    "'Remember, remember, the fifth of July.'.split()\n",
    "Ans:- \n",
    "['Remember,', 'remember,', 'the', 'fifth', 'of', 'July.']\n",
    "The string will split as per the spaces \n",
    "'-'.join('There can only one.'.split())\n",
    "'There-can-only-one.'\n",
    "The string will split as per the spaces and then – will be inserted in between the spaces/splits"
   ]
  },
  {
   "cell_type": "markdown",
   "metadata": {},
   "source": [
    "9. What are the methods for right-justifying, left-justifying, and centering a string?\n",
    "ljust(width, fillchar) – Left justify a string\n",
    "rjust(width, fillchar) – Right justify a string\n",
    "center(width, fillchar) – center justification of string\n",
    "E.g code\n",
    "s = \"I Love India\"\n",
    "print (s.center(40))\n",
    "print (s.rjust(50))\n",
    "print (s.ljust(100))"
   ]
  },
  {
   "cell_type": "markdown",
   "metadata": {},
   "source": [
    "10. What is the best way to remove whitespace characters from the start or end?\n",
    "Strip() function will remove the white spaces from the beginning and also the end of the string.\n",
    "Below is the example code\n",
    "s1 = \"    Hello this is Surat    \"\n",
    "s1.strip()\n",
    "output\n",
    "'Hello this is Surat'"
   ]
  }
 ],
 "metadata": {
  "kernelspec": {
   "display_name": "Python 3",
   "language": "python",
   "name": "python3"
  },
  "language_info": {
   "codemirror_mode": {
    "name": "ipython",
    "version": 3
   },
   "file_extension": ".py",
   "mimetype": "text/x-python",
   "name": "python",
   "nbconvert_exporter": "python",
   "pygments_lexer": "ipython3",
   "version": "3.8.5"
  }
 },
 "nbformat": 4,
 "nbformat_minor": 4
}
